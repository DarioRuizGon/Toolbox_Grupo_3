{
 "cells": [
  {
   "cell_type": "code",
   "execution_count": 1,
   "id": "cf091523",
   "metadata": {},
   "outputs": [],
   "source": [
    "import matplotlib.pyplot as plt\n",
    "import numpy as np\n",
    "import pandas as pd\n",
    "import seaborn as sns\n",
    "\n",
    "from pandas.api.types import is_numeric_dtype"
   ]
  },
  {
   "cell_type": "code",
   "execution_count": 2,
   "id": "72c0b243",
   "metadata": {},
   "outputs": [],
   "source": [
    "def cardinalidad(df_in, umbral_categoria = 10, umbral_countinua = 30):\n",
    "    cardinalidad = [df_in[col].nunique() for col in df_in.columns]\n",
    "    cardinalidad_por = [df_in[col].nunique()/len(df_in[col]) for col in df_in.columns]\n",
    "    dict_df = {\"nombre_variable\": df_in.columns, \"valores_unicos\": cardinalidad, \"cardinalidad\": cardinalidad_por}\n",
    "    nuevo_df = pd.DataFrame(dict_df)\n",
    "    nuevo_df[\"tipo_sugerido\"] = \"Categórica\"\n",
    "    nuevo_df.loc[nuevo_df[\"valores_unicos\"] == 2, \"tipo_sugerido\"] = \"Binaria\"\n",
    "    nuevo_df.loc[nuevo_df[\"valores_unicos\"] >= umbral_categoria, \"tipo_sugerido\"] = \"Numerica Discreta\"\n",
    "    nuevo_df.loc[nuevo_df[\"cardinalidad\"] >= umbral_countinua, \"tipo_sugerido\"] = \"Numerica Continua\"\n",
    "    return nuevo_df"
   ]
  },
  {
   "cell_type": "code",
   "execution_count": 9,
   "id": "0566ba12",
   "metadata": {},
   "outputs": [],
   "source": [
    "def get_features_cat_regression(df, target_col, p_value = 0.05, umbral_cat = 10):\n",
    "    '''\n",
    "    Esta función filtra las variables categóricas de un dataset introducido para entrenar un modelo de regresión lineal. \n",
    "    Verifica el tipo de variable llamando a la función \"cardinalidad\".\n",
    "    Si la variable es binaria aplica el test Mann-Whitney U, si es categórica pero no binaria aplica el test ANOVA para comprobar su relación con la variable target.\n",
    "    Si el valor p de los tests está por debajo del umbral especificado en \"p_value\" puede descartarse la hipótesis nula (la variable target y la categórica no estan relacionadas) con confianza estadística y se añade la variable a la lista de features categóricas para el modelo.\n",
    "\n",
    "\n",
    "    \n",
    "    Argumentos:\n",
    "\n",
    "    df(pd.DataFrame): DataFrame cuyas variables categóricas se desea filtrar.\n",
    "\n",
    "    target_col(string): nombre de la columna target que se pretende predecir con el modelo.\n",
    "\n",
    "    p_value(float): umbral de valor p por debajo del cual debe estar el valor p del test aplicado para determinar la relación entre una variable y el target para añadir dicha variable a la lista de features categóricas.\n",
    "    \n",
    "    umbral_cat(int): controla el número máximo de valores que puede tener una columna para ser considerada categórica.\n",
    "\n",
    "    \n",
    "\n",
    "    Retorna:\n",
    "\n",
    "    list: Lista de features categóricas para entrenar un modelo de regresión lineal con el dataset dado.\n",
    "    '''\n",
    "    if not is_numeric_dtype(df[target_col]):\n",
    "        target_col = input(\"Tu variable objetivo no es de tipo numérico, introduce una nueva variable target o la palabra 'parar' para dejar de ejecutar la función.\")\n",
    "        if target_col == \"parar\":\n",
    "            return \"La función no se ha ejecutado porque has decidido pararla\"\n",
    "    if len(df.loc[df[target_col].isna()]) > 0:\n",
    "        raise Exception(f\"La variable '{target_col}' tiene valores nulos, introduce una variable target sin nulos\")    \n",
    "    from scipy.stats import mannwhitneyu\n",
    "    from scipy.stats import f_oneway\n",
    "    lista_cat = []\n",
    "    for col in df:\n",
    "        if len(df.loc[df[col].isna()]) > 0:\n",
    "            raise Exception(f\"La variable '{col}' tiene valores nulos, introduce un DataFrame sin nulos\")\n",
    "        tipo_col = cardinalidad(df[[col]], umbral_categoria = umbral_cat).tipo_sugerido[0]\n",
    "        if tipo_col == \"Binaria\":\n",
    "            value_1 = df[col].unique()[0]\n",
    "            value_2 = df[col].unique()[1]\n",
    "            group_a = df.loc[df[col] == value_1, target_col]\n",
    "            group_b = df.loc[df[col] == value_2, target_col]\n",
    "            _, p_val = mannwhitneyu(group_a, group_b)\n",
    "            print(f\"Para '{target_col}' y '{col}' el p-value es: {p_val} (Test realizado: Mann-Whitney U)\")\n",
    "            print(p_val)\n",
    "            if p_val < p_value:\n",
    "                lista_cat.append(col)\n",
    "        elif tipo_col == \"Categórica\":\n",
    "            groups = df[col].unique()\n",
    "            target_values_x_group = [df.loc[df[col] == group, target_col] for group in groups]\n",
    "            _, p_val = f_oneway(*target_values_x_group)\n",
    "            print(f\"Para '{target_col}' y '{col}' el p-value es: {p_val} (Test aplicado: ANOVA)\")\n",
    "            if p_val < p_value:\n",
    "                lista_cat.append(col)\n",
    "    return lista_cat\n",
    "    "
   ]
  },
  {
   "cell_type": "code",
   "execution_count": 4,
   "id": "e8847a11",
   "metadata": {},
   "outputs": [
    {
     "data": {
      "text/html": [
       "<div>\n",
       "<style scoped>\n",
       "    .dataframe tbody tr th:only-of-type {\n",
       "        vertical-align: middle;\n",
       "    }\n",
       "\n",
       "    .dataframe tbody tr th {\n",
       "        vertical-align: top;\n",
       "    }\n",
       "\n",
       "    .dataframe thead th {\n",
       "        text-align: right;\n",
       "    }\n",
       "</style>\n",
       "<table border=\"1\" class=\"dataframe\">\n",
       "  <thead>\n",
       "    <tr style=\"text-align: right;\">\n",
       "      <th></th>\n",
       "      <th>survived</th>\n",
       "      <th>pclass</th>\n",
       "      <th>sex</th>\n",
       "      <th>age</th>\n",
       "      <th>sibsp</th>\n",
       "      <th>parch</th>\n",
       "      <th>fare</th>\n",
       "      <th>embarked</th>\n",
       "      <th>class</th>\n",
       "      <th>who</th>\n",
       "      <th>adult_male</th>\n",
       "      <th>deck</th>\n",
       "      <th>embark_town</th>\n",
       "      <th>alive</th>\n",
       "      <th>alone</th>\n",
       "    </tr>\n",
       "  </thead>\n",
       "  <tbody>\n",
       "    <tr>\n",
       "      <th>0</th>\n",
       "      <td>0</td>\n",
       "      <td>3</td>\n",
       "      <td>male</td>\n",
       "      <td>22.0</td>\n",
       "      <td>1</td>\n",
       "      <td>0</td>\n",
       "      <td>7.2500</td>\n",
       "      <td>S</td>\n",
       "      <td>Third</td>\n",
       "      <td>man</td>\n",
       "      <td>True</td>\n",
       "      <td>NaN</td>\n",
       "      <td>Southampton</td>\n",
       "      <td>no</td>\n",
       "      <td>False</td>\n",
       "    </tr>\n",
       "    <tr>\n",
       "      <th>1</th>\n",
       "      <td>1</td>\n",
       "      <td>1</td>\n",
       "      <td>female</td>\n",
       "      <td>38.0</td>\n",
       "      <td>1</td>\n",
       "      <td>0</td>\n",
       "      <td>71.2833</td>\n",
       "      <td>C</td>\n",
       "      <td>First</td>\n",
       "      <td>woman</td>\n",
       "      <td>False</td>\n",
       "      <td>C</td>\n",
       "      <td>Cherbourg</td>\n",
       "      <td>yes</td>\n",
       "      <td>False</td>\n",
       "    </tr>\n",
       "    <tr>\n",
       "      <th>2</th>\n",
       "      <td>1</td>\n",
       "      <td>3</td>\n",
       "      <td>female</td>\n",
       "      <td>26.0</td>\n",
       "      <td>0</td>\n",
       "      <td>0</td>\n",
       "      <td>7.9250</td>\n",
       "      <td>S</td>\n",
       "      <td>Third</td>\n",
       "      <td>woman</td>\n",
       "      <td>False</td>\n",
       "      <td>NaN</td>\n",
       "      <td>Southampton</td>\n",
       "      <td>yes</td>\n",
       "      <td>True</td>\n",
       "    </tr>\n",
       "    <tr>\n",
       "      <th>3</th>\n",
       "      <td>1</td>\n",
       "      <td>1</td>\n",
       "      <td>female</td>\n",
       "      <td>35.0</td>\n",
       "      <td>1</td>\n",
       "      <td>0</td>\n",
       "      <td>53.1000</td>\n",
       "      <td>S</td>\n",
       "      <td>First</td>\n",
       "      <td>woman</td>\n",
       "      <td>False</td>\n",
       "      <td>C</td>\n",
       "      <td>Southampton</td>\n",
       "      <td>yes</td>\n",
       "      <td>False</td>\n",
       "    </tr>\n",
       "    <tr>\n",
       "      <th>4</th>\n",
       "      <td>0</td>\n",
       "      <td>3</td>\n",
       "      <td>male</td>\n",
       "      <td>35.0</td>\n",
       "      <td>0</td>\n",
       "      <td>0</td>\n",
       "      <td>8.0500</td>\n",
       "      <td>S</td>\n",
       "      <td>Third</td>\n",
       "      <td>man</td>\n",
       "      <td>True</td>\n",
       "      <td>NaN</td>\n",
       "      <td>Southampton</td>\n",
       "      <td>no</td>\n",
       "      <td>True</td>\n",
       "    </tr>\n",
       "    <tr>\n",
       "      <th>...</th>\n",
       "      <td>...</td>\n",
       "      <td>...</td>\n",
       "      <td>...</td>\n",
       "      <td>...</td>\n",
       "      <td>...</td>\n",
       "      <td>...</td>\n",
       "      <td>...</td>\n",
       "      <td>...</td>\n",
       "      <td>...</td>\n",
       "      <td>...</td>\n",
       "      <td>...</td>\n",
       "      <td>...</td>\n",
       "      <td>...</td>\n",
       "      <td>...</td>\n",
       "      <td>...</td>\n",
       "    </tr>\n",
       "    <tr>\n",
       "      <th>886</th>\n",
       "      <td>0</td>\n",
       "      <td>2</td>\n",
       "      <td>male</td>\n",
       "      <td>27.0</td>\n",
       "      <td>0</td>\n",
       "      <td>0</td>\n",
       "      <td>13.0000</td>\n",
       "      <td>S</td>\n",
       "      <td>Second</td>\n",
       "      <td>man</td>\n",
       "      <td>True</td>\n",
       "      <td>NaN</td>\n",
       "      <td>Southampton</td>\n",
       "      <td>no</td>\n",
       "      <td>True</td>\n",
       "    </tr>\n",
       "    <tr>\n",
       "      <th>887</th>\n",
       "      <td>1</td>\n",
       "      <td>1</td>\n",
       "      <td>female</td>\n",
       "      <td>19.0</td>\n",
       "      <td>0</td>\n",
       "      <td>0</td>\n",
       "      <td>30.0000</td>\n",
       "      <td>S</td>\n",
       "      <td>First</td>\n",
       "      <td>woman</td>\n",
       "      <td>False</td>\n",
       "      <td>B</td>\n",
       "      <td>Southampton</td>\n",
       "      <td>yes</td>\n",
       "      <td>True</td>\n",
       "    </tr>\n",
       "    <tr>\n",
       "      <th>888</th>\n",
       "      <td>0</td>\n",
       "      <td>3</td>\n",
       "      <td>female</td>\n",
       "      <td>NaN</td>\n",
       "      <td>1</td>\n",
       "      <td>2</td>\n",
       "      <td>23.4500</td>\n",
       "      <td>S</td>\n",
       "      <td>Third</td>\n",
       "      <td>woman</td>\n",
       "      <td>False</td>\n",
       "      <td>NaN</td>\n",
       "      <td>Southampton</td>\n",
       "      <td>no</td>\n",
       "      <td>False</td>\n",
       "    </tr>\n",
       "    <tr>\n",
       "      <th>889</th>\n",
       "      <td>1</td>\n",
       "      <td>1</td>\n",
       "      <td>male</td>\n",
       "      <td>26.0</td>\n",
       "      <td>0</td>\n",
       "      <td>0</td>\n",
       "      <td>30.0000</td>\n",
       "      <td>C</td>\n",
       "      <td>First</td>\n",
       "      <td>man</td>\n",
       "      <td>True</td>\n",
       "      <td>C</td>\n",
       "      <td>Cherbourg</td>\n",
       "      <td>yes</td>\n",
       "      <td>True</td>\n",
       "    </tr>\n",
       "    <tr>\n",
       "      <th>890</th>\n",
       "      <td>0</td>\n",
       "      <td>3</td>\n",
       "      <td>male</td>\n",
       "      <td>32.0</td>\n",
       "      <td>0</td>\n",
       "      <td>0</td>\n",
       "      <td>7.7500</td>\n",
       "      <td>Q</td>\n",
       "      <td>Third</td>\n",
       "      <td>man</td>\n",
       "      <td>True</td>\n",
       "      <td>NaN</td>\n",
       "      <td>Queenstown</td>\n",
       "      <td>no</td>\n",
       "      <td>True</td>\n",
       "    </tr>\n",
       "  </tbody>\n",
       "</table>\n",
       "<p>891 rows × 15 columns</p>\n",
       "</div>"
      ],
      "text/plain": [
       "     survived  pclass     sex   age  sibsp  parch     fare embarked   class  \\\n",
       "0           0       3    male  22.0      1      0   7.2500        S   Third   \n",
       "1           1       1  female  38.0      1      0  71.2833        C   First   \n",
       "2           1       3  female  26.0      0      0   7.9250        S   Third   \n",
       "3           1       1  female  35.0      1      0  53.1000        S   First   \n",
       "4           0       3    male  35.0      0      0   8.0500        S   Third   \n",
       "..        ...     ...     ...   ...    ...    ...      ...      ...     ...   \n",
       "886         0       2    male  27.0      0      0  13.0000        S  Second   \n",
       "887         1       1  female  19.0      0      0  30.0000        S   First   \n",
       "888         0       3  female   NaN      1      2  23.4500        S   Third   \n",
       "889         1       1    male  26.0      0      0  30.0000        C   First   \n",
       "890         0       3    male  32.0      0      0   7.7500        Q   Third   \n",
       "\n",
       "       who  adult_male deck  embark_town alive  alone  \n",
       "0      man        True  NaN  Southampton    no  False  \n",
       "1    woman       False    C    Cherbourg   yes  False  \n",
       "2    woman       False  NaN  Southampton   yes   True  \n",
       "3    woman       False    C  Southampton   yes  False  \n",
       "4      man        True  NaN  Southampton    no   True  \n",
       "..     ...         ...  ...          ...   ...    ...  \n",
       "886    man        True  NaN  Southampton    no   True  \n",
       "887  woman       False    B  Southampton   yes   True  \n",
       "888  woman       False  NaN  Southampton    no  False  \n",
       "889    man        True    C    Cherbourg   yes   True  \n",
       "890    man        True  NaN   Queenstown    no   True  \n",
       "\n",
       "[891 rows x 15 columns]"
      ]
     },
     "execution_count": 4,
     "metadata": {},
     "output_type": "execute_result"
    }
   ],
   "source": [
    "df_titanic = pd.read_csv(\"./data/titanic.csv\")\n",
    "df_titanic"
   ]
  },
  {
   "cell_type": "code",
   "execution_count": 5,
   "id": "22d14ba8",
   "metadata": {},
   "outputs": [
    {
     "data": {
      "text/plain": [
       "'Categórica'"
      ]
     },
     "execution_count": 5,
     "metadata": {},
     "output_type": "execute_result"
    }
   ],
   "source": [
    "cardinalidad(df_titanic[[\"who\"]]).tipo_sugerido[0]"
   ]
  },
  {
   "cell_type": "code",
   "execution_count": 6,
   "id": "f83f6765",
   "metadata": {},
   "outputs": [
    {
     "data": {
      "text/plain": [
       "False"
      ]
     },
     "execution_count": 6,
     "metadata": {},
     "output_type": "execute_result"
    }
   ],
   "source": [
    "is_numeric_dtype(df_titanic[\"sex\"])"
   ]
  },
  {
   "cell_type": "code",
   "execution_count": 10,
   "id": "dab77825",
   "metadata": {},
   "outputs": [
    {
     "name": "stdout",
     "output_type": "stream",
     "text": [
      "Para 'age' y 'survived' el p-value es: 0.0006641019760370105 (Test realizado: Mann-Whitney U)\n",
      "0.0006641019760370105\n",
      "Para 'age' y 'pclass' el p-value es: 0.00010470399891167751 (Test aplicado: ANOVA)\n",
      "Para 'age' y 'sex' el p-value es: 0.008040695758472983 (Test realizado: Mann-Whitney U)\n",
      "0.008040695758472983\n",
      "Para 'age' y 'sibsp' el p-value es: 0.0894492551676653 (Test aplicado: ANOVA)\n",
      "Para 'age' y 'parch' el p-value es: 9.908210573457945e-06 (Test aplicado: ANOVA)\n",
      "Para 'age' y 'embarked' el p-value es: 0.470768684811386 (Test aplicado: ANOVA)\n",
      "Para 'age' y 'class' el p-value es: 0.00010470399891167751 (Test aplicado: ANOVA)\n",
      "Para 'age' y 'who' el p-value es: 2.4733196205109136e-16 (Test aplicado: ANOVA)\n",
      "Para 'age' y 'adult_male' el p-value es: 1.4385968017342073e-05 (Test realizado: Mann-Whitney U)\n",
      "1.4385968017342073e-05\n",
      "Para 'age' y 'deck' el p-value es: 0.00021171214067990663 (Test aplicado: ANOVA)\n",
      "Para 'age' y 'embark_town' el p-value es: 0.470768684811386 (Test aplicado: ANOVA)\n",
      "Para 'age' y 'alive' el p-value es: 0.0006641019760370105 (Test realizado: Mann-Whitney U)\n",
      "0.0006641019760370105\n",
      "Para 'age' y 'alone' el p-value es: 0.017690188545492248 (Test realizado: Mann-Whitney U)\n",
      "0.017690188545492248\n"
     ]
    },
    {
     "data": {
      "text/plain": [
       "['survived',\n",
       " 'pclass',\n",
       " 'sex',\n",
       " 'parch',\n",
       " 'class',\n",
       " 'who',\n",
       " 'adult_male',\n",
       " 'deck',\n",
       " 'alive',\n",
       " 'alone']"
      ]
     },
     "execution_count": 10,
     "metadata": {},
     "output_type": "execute_result"
    }
   ],
   "source": [
    "get_features_cat_regression(df_titanic.dropna(), \"age\")"
   ]
  },
  {
   "cell_type": "code",
   "execution_count": null,
   "id": "4342737f",
   "metadata": {},
   "outputs": [],
   "source": [
    "from scipy.stats import mannwhitneyu\n",
    "from scipy.stats import f_oneway"
   ]
  },
  {
   "cell_type": "code",
   "execution_count": null,
   "id": "37f1d67e",
   "metadata": {},
   "outputs": [
    {
     "ename": "NameError",
     "evalue": "name 'df' is not defined",
     "output_type": "error",
     "traceback": [
      "\u001b[31m---------------------------------------------------------------------------\u001b[39m",
      "\u001b[31mNameError\u001b[39m                                 Traceback (most recent call last)",
      "\u001b[36mCell\u001b[39m\u001b[36m \u001b[39m\u001b[32mIn[87]\u001b[39m\u001b[32m, line 1\u001b[39m\n\u001b[32m----> \u001b[39m\u001b[32m1\u001b[39m \u001b[38;5;28mlen\u001b[39m(\u001b[43mdf\u001b[49m.loc[df[col].isna() > \u001b[32m0\u001b[39m])\n",
      "\u001b[31mNameError\u001b[39m: name 'df' is not defined"
     ]
    }
   ],
   "source": [
    "len(df.loc[df[col].isna() > 0])"
   ]
  },
  {
   "cell_type": "code",
   "execution_count": null,
   "id": "bb92e143",
   "metadata": {},
   "outputs": [
    {
     "data": {
      "text/html": [
       "<div>\n",
       "<style scoped>\n",
       "    .dataframe tbody tr th:only-of-type {\n",
       "        vertical-align: middle;\n",
       "    }\n",
       "\n",
       "    .dataframe tbody tr th {\n",
       "        vertical-align: top;\n",
       "    }\n",
       "\n",
       "    .dataframe thead th {\n",
       "        text-align: right;\n",
       "    }\n",
       "</style>\n",
       "<table border=\"1\" class=\"dataframe\">\n",
       "  <thead>\n",
       "    <tr style=\"text-align: right;\">\n",
       "      <th></th>\n",
       "      <th>survived</th>\n",
       "      <th>pclass</th>\n",
       "      <th>sex</th>\n",
       "      <th>age</th>\n",
       "      <th>sibsp</th>\n",
       "      <th>parch</th>\n",
       "      <th>fare</th>\n",
       "      <th>embarked</th>\n",
       "      <th>class</th>\n",
       "      <th>who</th>\n",
       "      <th>adult_male</th>\n",
       "      <th>deck</th>\n",
       "      <th>embark_town</th>\n",
       "      <th>alive</th>\n",
       "      <th>alone</th>\n",
       "    </tr>\n",
       "  </thead>\n",
       "  <tbody>\n",
       "    <tr>\n",
       "      <th>61</th>\n",
       "      <td>1</td>\n",
       "      <td>1</td>\n",
       "      <td>female</td>\n",
       "      <td>38.0</td>\n",
       "      <td>0</td>\n",
       "      <td>0</td>\n",
       "      <td>80.0</td>\n",
       "      <td>NaN</td>\n",
       "      <td>First</td>\n",
       "      <td>woman</td>\n",
       "      <td>False</td>\n",
       "      <td>B</td>\n",
       "      <td>NaN</td>\n",
       "      <td>yes</td>\n",
       "      <td>True</td>\n",
       "    </tr>\n",
       "    <tr>\n",
       "      <th>829</th>\n",
       "      <td>1</td>\n",
       "      <td>1</td>\n",
       "      <td>female</td>\n",
       "      <td>62.0</td>\n",
       "      <td>0</td>\n",
       "      <td>0</td>\n",
       "      <td>80.0</td>\n",
       "      <td>NaN</td>\n",
       "      <td>First</td>\n",
       "      <td>woman</td>\n",
       "      <td>False</td>\n",
       "      <td>B</td>\n",
       "      <td>NaN</td>\n",
       "      <td>yes</td>\n",
       "      <td>True</td>\n",
       "    </tr>\n",
       "  </tbody>\n",
       "</table>\n",
       "</div>"
      ],
      "text/plain": [
       "     survived  pclass     sex   age  sibsp  parch  fare embarked  class  \\\n",
       "61          1       1  female  38.0      0      0  80.0      NaN  First   \n",
       "829         1       1  female  62.0      0      0  80.0      NaN  First   \n",
       "\n",
       "       who  adult_male deck embark_town alive  alone  \n",
       "61   woman       False    B         NaN   yes   True  \n",
       "829  woman       False    B         NaN   yes   True  "
      ]
     },
     "execution_count": 70,
     "metadata": {},
     "output_type": "execute_result"
    }
   ],
   "source": [
    "df_titanic.loc[df_titanic.embark_town.isna()]"
   ]
  },
  {
   "cell_type": "code",
   "execution_count": null,
   "id": "10d1820e",
   "metadata": {},
   "outputs": [
    {
     "name": "stderr",
     "output_type": "stream",
     "text": [
      "C:\\Users\\dario\\AppData\\Local\\Temp\\ipykernel_5968\\851147082.py:3: SmallSampleWarning: One or more sample arguments is too small; all returned values will be NaN. See documentation for sample size requirements.\n",
      "  _, p_val = f_oneway(*target_values_x_group)\n"
     ]
    },
    {
     "data": {
      "text/plain": [
       "np.float64(nan)"
      ]
     },
     "execution_count": 74,
     "metadata": {},
     "output_type": "execute_result"
    }
   ],
   "source": [
    "groups = df_titanic.embark_town.unique()\n",
    "target_values_x_group = [df_titanic.dropna().loc[df_titanic.embark_town == group, \"age\"] for group in groups]\n",
    "_, p_val = f_oneway(*target_values_x_group)\n",
    "p_val"
   ]
  },
  {
   "cell_type": "code",
   "execution_count": null,
   "id": "23e566c6",
   "metadata": {},
   "outputs": [],
   "source": [
    "df_titanic.dropna(inplace=True)"
   ]
  },
  {
   "cell_type": "code",
   "execution_count": null,
   "id": "5d6bf879",
   "metadata": {},
   "outputs": [
    {
     "name": "stdout",
     "output_type": "stream",
     "text": [
      "0.3389044283200656\n"
     ]
    }
   ],
   "source": [
    "value_1 = df_titanic.dropna()[\"embark_town\"].unique()[0]\n",
    "value_2 = df_titanic.dropna()[\"embark_town\"].unique()[1]\n",
    "group_a = df_titanic.dropna().loc[df_titanic[\"embark_town\"] == value_1, \"age\"]\n",
    "group_b = df_titanic.dropna().loc[df_titanic[\"embark_town\"] == value_2, \"age\"]\n",
    "p, p_val = mannwhitneyu(group_a, group_b)\n",
    "print(p_val)"
   ]
  },
  {
   "cell_type": "code",
   "execution_count": null,
   "id": "7ad3c3f2",
   "metadata": {},
   "outputs": [
    {
     "data": {
      "text/plain": [
       "0      22.0\n",
       "4      35.0\n",
       "5       NaN\n",
       "6      54.0\n",
       "7       2.0\n",
       "       ... \n",
       "884    25.0\n",
       "885    39.0\n",
       "886    27.0\n",
       "888     NaN\n",
       "890    32.0\n",
       "Name: age, Length: 549, dtype: float64"
      ]
     },
     "execution_count": 28,
     "metadata": {},
     "output_type": "execute_result"
    }
   ],
   "source": [
    "value_1 = df_titanic[\"survived\"].unique()[0]\n",
    "value_1\n",
    "group_a = df_titanic.loc[df_titanic[\"survived\"] == value_1][\"age\"]\n",
    "group_a\n",
    "group_b = df_titanic.loc[df_titanic[\"survived\"] == value_2, \"age\"]\n",
    "group_a"
   ]
  }
 ],
 "metadata": {
  "kernelspec": {
   "display_name": "Python 3",
   "language": "python",
   "name": "python3"
  },
  "language_info": {
   "codemirror_mode": {
    "name": "ipython",
    "version": 3
   },
   "file_extension": ".py",
   "mimetype": "text/x-python",
   "name": "python",
   "nbconvert_exporter": "python",
   "pygments_lexer": "ipython3",
   "version": "3.13.3"
  }
 },
 "nbformat": 4,
 "nbformat_minor": 5
}
